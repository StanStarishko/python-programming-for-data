{
  "nbformat": 4,
  "nbformat_minor": 0,
  "metadata": {
    "colab": {
      "provenance": [],
      "include_colab_link": true
    },
    "kernelspec": {
      "name": "python3",
      "display_name": "Python 3"
    },
    "language_info": {
      "name": "python"
    }
  },
  "cells": [
    {
      "cell_type": "markdown",
      "metadata": {
        "id": "view-in-github",
        "colab_type": "text"
      },
      "source": [
        "<a href=\"https://colab.research.google.com/github/StanStarishko/python-programming-for-data/blob/main/Worksheets/5_numpy.ipynb\" target=\"_parent\"><img src=\"https://colab.research.google.com/assets/colab-badge.svg\" alt=\"Open In Colab\"/></a>"
      ]
    },
    {
      "cell_type": "markdown",
      "metadata": {
        "id": "M21YTen340ZU"
      },
      "source": [
        "# Using numpy for processing lists of number data\n",
        "\n",
        "---"
      ]
    },
    {
      "cell_type": "markdown",
      "metadata": {
        "id": "lvCryMxH47we"
      },
      "source": [
        "## numpy is a high performance array processing library for Python\n",
        "\n",
        "Python lists can contain any type of data, including objects.  numpy arrays are specialised and can only contain numbers.\n",
        "\n",
        "You can customise the memory usage so that arrays can use less memory and items are always stored contiguously, which isn't always the case for Python lists.  This means that it is more efficient at storing, and faster at processing, large data sets.\n",
        "\n",
        "Use numpy arrays to **store and manipulate large lists of numbers** (for other data types use plain Python lists or a panda series)\n",
        "\n",
        "Use numpy arrays to **process panda series (columns) where these contain numerical data and a large number of records**.\n",
        "\n",
        "Use numpy arrays to **create new sets of data** to add to a dataframe.\n",
        "\n",
        "For this course we are going to focus on using numpy arrays as a means of holding and working with a list of data from a pandas dataframe column.\n"
      ]
    },
    {
      "cell_type": "markdown",
      "metadata": {
        "id": "MxKEUfvp54QO"
      },
      "source": [
        "---\n",
        "## Creating a new numpy array (maybe for a new series or an extended series)\n",
        "\n",
        "To use numpy, you will need to import it.  The conventional way to import numpy is to import the whole library and use an *alias*\n",
        "\n",
        "`import numpy as np`\n",
        "\n",
        "Every time you want to use a function from the numpy library you use the syntax:  \n",
        "\n",
        "`np.function_name()`  \n",
        "\n",
        "Create a new numpy array from a Python list of numbers\n",
        "   \n",
        "`arr = np.array([1,2,3])`\n",
        "\n",
        "Or a new numpy matrix from a Python 2 dimensional list of numbers\n",
        "\n",
        "`matrix = np.array([1,2,3],[4,5,6])`\n",
        "\n",
        "Create a numpy array from a dataframe column (series):\n",
        "\n",
        "`arr = df['column name'].to_numpy(datatype)`\n",
        "\n",
        "where the datatype matches the data type of the column (`df.info()` will give this information if you are unsure).\n",
        "\n"
      ]
    },
    {
      "cell_type": "markdown",
      "metadata": {
        "id": "s2HQHeHE6r4n"
      },
      "source": [
        "### Exercise 1 - create a new numpy array to hold the numbers from 1 to 10\n",
        "---\n",
        "\n",
        "Write a function called `make_array()` which will:\n",
        "*   create a list of the numbers 1 to 10     -   *hint: try using range()*\n",
        "*   create a new numpy array called **new_array** from that list\n",
        "*   print `new_array`\n",
        "\n",
        "Expected output:  \n",
        "`[1 2 3 4 5 6 7 8 9 10] `\n",
        "\n"
      ]
    },
    {
      "cell_type": "code",
      "metadata": {
        "id": "-WWVDSRq7QDN",
        "colab": {
          "base_uri": "https://localhost:8080/"
        },
        "outputId": "b11df2c7-cfc0-417e-eaa0-adf3110b5cc5"
      },
      "source": [
        "import numpy as np\n",
        "\n",
        "def make_array():\n",
        "  # add your code below here\n",
        "\n",
        "  # create a list of the numbers 1 to 10 - hint: try using range()\n",
        "  num_list = list(range(1,11))\n",
        "\n",
        "  # create a new numpy array called new_array from that list\n",
        "  new_array = np.array(num_list)\n",
        "\n",
        "  # print new_array\n",
        "  print(new_array)\n",
        "\n",
        "\n",
        "\n",
        "# run and test the function against the expected output\n",
        "make_array()"
      ],
      "execution_count": null,
      "outputs": [
        {
          "output_type": "stream",
          "name": "stdout",
          "text": [
            "[ 1  2  3  4  5  6  7  8  9 10]\n"
          ]
        }
      ]
    },
    {
      "cell_type": "markdown",
      "metadata": {
        "id": "X2qc0-nc7qZV"
      },
      "source": [
        "## Setting the number type in memory\n",
        "\n",
        "numpy allows you to set the type of number in memory (e.g. `int8`, `int32`) when you create the array.  This allows memory allocation to be as small as possible.  \n",
        "\n",
        "`new_matrix = np.array([1, 2, 3], np.int8)`    \n",
        "\n",
        "This creates a list of whole numbers which are all small enough to fit in 1 byte of memory storage.\n",
        "\n",
        "---\n",
        "### Exercise 2 - create list of smallish numbers\n",
        "\n",
        "Write a function which will:\n",
        "*   accept a parameter **num_list**    \n",
        "*   create a new numpy array called **new_array** from `num_list`, with data size `int16`\n",
        "*   print `new_array`  \n",
        "\n",
        "Test input:  \n",
        "`[31112, 32321, 24567,456,324,789]`\n",
        "\n",
        "Expected output:   \n",
        "```\n",
        "[31112 32321 24567 456 324 789]\n",
        "```"
      ]
    },
    {
      "cell_type": "code",
      "metadata": {
        "id": "XUMfMwhLACzH",
        "colab": {
          "base_uri": "https://localhost:8080/"
        },
        "outputId": "fa77d511-7b59-4b7f-9bef-e0b73b43bd81"
      },
      "source": [
        "import numpy as np\n",
        "\n",
        "def create_new_array(num_list):\n",
        "  # add your code below here to turn num_list into a numpy array\n",
        "\n",
        "  # create a new numpy array called new_array from num_list, with data size int16\n",
        "  new_array = np.array(num_list, np.int16)\n",
        "\n",
        "  # print new_array\n",
        "  print(new_array)\n",
        "\n",
        "\n",
        "# run and test the code against the expected output\n",
        "create_new_array([31112, 32321, 24567,456,324,789])"
      ],
      "execution_count": null,
      "outputs": [
        {
          "output_type": "stream",
          "name": "stdout",
          "text": [
            "[31112 32321 24567   456   324   789]\n"
          ]
        }
      ]
    },
    {
      "cell_type": "markdown",
      "metadata": {
        "id": "oC8rsm3yBLRd"
      },
      "source": [
        "---\n",
        "### Exercise 3 - create a numpy array from a pandas dataframe column\n",
        "\n",
        "Write a function which  will first create a dataframe from the titanic data set, and then will create a numpy array from the Fare column.\n",
        "\n",
        "*Recap*:  *the Fare column is df['Fare'] (assuming your dataframe is called df)*\n",
        "\n",
        "*  create a dataframe from the data set in the file at this url:  https://raw.githubusercontent.com/pandas-dev/pandas/master/doc/data/titanic.csv  \n",
        "*  create a new numpy array called **fare** from the `Fare` column (*remember to specify the data type e.g. np.int32, float64 when using* `df.to_numpy()`)  \n",
        "*  print the `fare` array\n",
        "\n",
        "Expected output:  \n",
        "```\n",
        "array([  7.25  ,  71.2833,   7.925 , ......  23.45  ,  30.    ,   7.75  ])\n",
        "```\n",
        "\n",
        "  "
      ]
    },
    {
      "cell_type": "code",
      "metadata": {
        "id": "QCs2eDFEBhr8",
        "colab": {
          "base_uri": "https://localhost:8080/"
        },
        "outputId": "dba598ba-ff41-4dee-bbb3-14fa20ef2c69"
      },
      "source": [
        "import pandas as pd\n",
        "import numpy as np\n",
        "\n",
        "def is_valid_link(link=\"\",link_name=\"\",autotest=False):\n",
        "  # link always isn't empty and must have is string\n",
        "  return_value = link != \"\" and isinstance(link, str)\n",
        "\n",
        "  if not return_value and not autotest: # not print if autotest\n",
        "    print(f\"{link_name} is not valid\")\n",
        "\n",
        "  return return_value\n",
        "\n",
        "\n",
        "def create_fare_series(url=\"\"):\n",
        "  # add your code below here to read the data set into a dataframe and then create a numpy array from the Fare column and print it\n",
        "  if not is_valid_link(url, \"url\"):\n",
        "    return\n",
        "\n",
        "  # create a dataframe from the data set in the file at url\n",
        "  df = pd.read_csv(url)\n",
        "\n",
        "  # create a new numpy array called fare from the Fare column\n",
        "  fare = df['Fare'].to_numpy(np.float64)\n",
        "  np.set_printoptions(threshold=6, edgeitems=3, precision=8)\n",
        "\n",
        "  # print fare\n",
        "  print(fare)\n",
        "\n",
        "\n",
        "# run the function and test against the expected output.\n",
        "url = \"https://raw.githubusercontent.com/pandas-dev/pandas/master/doc/data/titanic.csv\"\n",
        "create_fare_series(url)"
      ],
      "execution_count": null,
      "outputs": [
        {
          "output_type": "stream",
          "name": "stdout",
          "text": [
            "[ 7.25   71.2833  7.925  ... 23.45   30.      7.75  ]\n"
          ]
        }
      ]
    },
    {
      "cell_type": "markdown",
      "metadata": {
        "id": "qf3xj2T9CRmT"
      },
      "source": [
        "---\n",
        "### Exercise 4 - get some statistics from a numpy array created from a data series\n",
        "\n",
        "This exercise will use data on income in certain US states.  The link is: https://github.com/futureCodersSE/python-programming-for-data/blob/main/Datasets/Income-Data.xlsx?raw=True.   This spreadsheet just has one sheet.  \n",
        "\n",
        "Write a function which will create a numpy array from the `Age` column in the income dataset and will print the following:\n",
        "\n",
        "*  the average (mean) age of those surveyed  \n",
        "*  the age of the oldest person\n",
        "*  the age of the youngest person\n",
        "\n",
        "TO HELP with this, refer to this helpsheet: http://datacamp-community-prod.s3.amazonaws.com/da466534-51fe-4c6d-b0cb-154f4782eb54\n",
        "\n",
        "Expected output:  \n",
        "```\n",
        "29.88888888888889\n",
        "42\n",
        "22\n",
        "```\n",
        "\n",
        "     "
      ]
    },
    {
      "cell_type": "code",
      "metadata": {
        "id": "27UpVktxC_VX",
        "colab": {
          "base_uri": "https://localhost:8080/"
        },
        "outputId": "b4da1291-df60-4107-962f-8447bc8ced93"
      },
      "source": [
        "import pandas as pd\n",
        "import numpy as np\n",
        "\n",
        "\n",
        "def get_excel_data(url=\"\",sheet_name=\"default\"):\n",
        "  # url and sheet name always isn't empty and must have is string\n",
        "  is_not_valid_url = not is_valid_link(url,\"url\")\n",
        "  is_not_valid_sheet_name = not is_valid_link(sheet_name,\"sheet name\")\n",
        "  if is_not_valid_url or is_not_valid_sheet_name:\n",
        "    return False\n",
        "\n",
        "  if sheet_name == \"default\":\n",
        "    df = pd.read_excel(url)\n",
        "  else:\n",
        "    df = pd.read_excel(url,sheet_name)\n",
        "\n",
        "  return df\n",
        "\n",
        "\n",
        "def get_age_stats(url=\"\",sheet_name=\"default\"):\n",
        "  # add your code below here to read the data set into a dataframe and then create a numpy array from the Age column, calculate and print the statistics\n",
        "\n",
        "  df = get_excel_data(url,sheet_name)\n",
        "  if df is False:\n",
        "    return\n",
        "\n",
        "  # create a numpy array from the Age column\n",
        "  age = df['Age'].to_numpy(np.int32)\n",
        "\n",
        "  # the average (mean) age of those surveyed\n",
        "  print(np.mean(age))\n",
        "\n",
        "  # the age of the oldest person\n",
        "  print(np.max(age))\n",
        "\n",
        "  # the age of the youngest person\n",
        "  print(np.min(age))\n",
        "\n",
        "\n",
        "# run the function and test against the expected output.\n",
        "url = \"https://github.com/futureCodersSE/python-programming-for-data/blob/main/Datasets/Income-Data.xlsx?raw=true\"\n",
        "get_age_stats(url)"
      ],
      "execution_count": null,
      "outputs": [
        {
          "output_type": "stream",
          "name": "stdout",
          "text": [
            "29.88888888888889\n",
            "42\n",
            "22\n"
          ]
        }
      ]
    },
    {
      "cell_type": "markdown",
      "source": [
        "---\n",
        "### Exercise 5 - print first 5 and last 5 items in numpy array\n",
        "\n",
        "Write a function which will use the same array as created in the previous exercise (created from the Age column in the income dataset):\n",
        "\n",
        "*  print the first 5 items in the array (one per line)\n",
        "*  print 5 lines of three dots (ie ...)\n",
        "*  print the last 5 items in the array (one per line)\n",
        "\n",
        "**Expected output**:  \n",
        "34  \n",
        "42  \n",
        "23  \n",
        "36  \n",
        "42  \n",
        "...  \n",
        "...  \n",
        "...  \n",
        "...  \n",
        "...  \n",
        "25  \n",
        "31  \n",
        "22  \n",
        "25  \n",
        "30  \n",
        "\n"
      ],
      "metadata": {
        "id": "u-eNIkYCNUKU"
      }
    },
    {
      "cell_type": "code",
      "metadata": {
        "id": "uFARauf3FiMf",
        "colab": {
          "base_uri": "https://localhost:8080/"
        },
        "outputId": "6fb596e1-d304-425f-9bcb-62a3f93ecc53"
      },
      "source": [
        "import pandas as pd\n",
        "import numpy as np\n",
        "\n",
        "def show_head_tail(url=\"\",sheet_name=\"default\"):\n",
        "  # add your code below here to read the data set into a dataframe and then create a numpy array from the Age column and print the head and tail, with dots as separators\n",
        "\n",
        "  df = get_excel_data(url,sheet_name)\n",
        "  if df is False:\n",
        "    return\n",
        "\n",
        "  # create a numpy array from the Age column\n",
        "  age = df['Age'].to_numpy(np.int32)\n",
        "\n",
        "  # print the first 5 items in the array (one per line)\n",
        "  for item in age[:5]:\n",
        "    print(item)\n",
        "\n",
        "  # print 5 lines of three dots (ie ...)\n",
        "  for idx in range(5):\n",
        "    print(\"...\")\n",
        "\n",
        "  # print the last 5 items in the array (one per line)\n",
        "  for item in age[-5:]:\n",
        "    print(item)\n",
        "\n",
        "# run the function and test against the expected output.\n",
        "show_head_tail(url)"
      ],
      "execution_count": null,
      "outputs": [
        {
          "output_type": "stream",
          "name": "stdout",
          "text": [
            "34\n",
            "42\n",
            "23\n",
            "36\n",
            "42\n",
            "...\n",
            "...\n",
            "...\n",
            "...\n",
            "...\n",
            "25\n",
            "31\n",
            "22\n",
            "25\n",
            "30\n"
          ]
        }
      ]
    },
    {
      "cell_type": "markdown",
      "metadata": {
        "id": "DDVIHbrnFjwz"
      },
      "source": [
        "---\n",
        "### Exercise 6 - find the mean and standard deviation of wages\n",
        "\n",
        "This exercise will again use data on income in certain US states.  The link is: https://github.com/futureCodersSE/working-with-data/blob/main/Data%20sets/Income-Data.xlsx?raw=true  This spreadsheet just has one sheet.\n",
        "\n",
        "Write a function which will create a numpy array from the `Income` column in the income dataset and will print the following:\n",
        "\n",
        "*  the mean income of those surveyed  \n",
        "*  the standard deviation of income\n",
        "*  the highest income\n",
        "*  the lowest income as a percentage of the mean (lowest / mean * 100)\n",
        "\n",
        "TO HELP with this, refer to this helpsheet: http://datacamp-community-prod.s3.amazonaws.com/da466534-51fe-4c6d-b0cb-154f4782eb54\n",
        "\n",
        "Expected output:  \n",
        "```\n",
        "63.388888888888886\n",
        "13.936916958961463\n",
        "81\n",
        "34.70639789658195\n",
        "```\n",
        "\n"
      ]
    },
    {
      "cell_type": "code",
      "metadata": {
        "id": "YB72q998EWkF",
        "colab": {
          "base_uri": "https://localhost:8080/"
        },
        "outputId": "b6897c1b-6fee-4d9d-a2e2-5ccb67e5e054"
      },
      "source": [
        "import pandas as pd\n",
        "import numpy as np\n",
        "\n",
        "def get_income_stats(url=\"\",sheet_name=\"default\"):\n",
        "  # add your code below to calculate the stats\n",
        "\n",
        "  df = get_excel_data(url,sheet_name)\n",
        "  if df is False:\n",
        "    return\n",
        "\n",
        "  # create a numpy array from the Income column\n",
        "  income = df['Income'].to_numpy(np.float64)\n",
        "\n",
        "  # the mean income of those surveyed\n",
        "  print(np.mean(income))\n",
        "\n",
        "  # the standard deviation of income\n",
        "  print(np.std(income))\n",
        "\n",
        "  # the highest income\n",
        "  print(np.max(income))\n",
        "\n",
        "  # the lowest income as a percentage of the mean (lowest / mean * 100)\n",
        "  print(np.min(income) / np.mean(income) * 100)\n",
        "\n",
        "\n",
        "# run the function and test against expected output\n",
        "get_income_stats(url)"
      ],
      "execution_count": null,
      "outputs": [
        {
          "output_type": "stream",
          "name": "stdout",
          "text": [
            "63.388888888888886\n",
            "13.936916958961463\n",
            "81.0\n",
            "34.70639789658195\n"
          ]
        }
      ]
    },
    {
      "cell_type": "markdown",
      "metadata": {
        "id": "QnOKzp1cHAvH"
      },
      "source": [
        "---\n",
        "### Exercise 7 - finding the correlation between two series\n",
        "\n",
        "Let's find out if there is a strong correlation between Age and Income in the income data set.\n",
        "\n",
        "*  read the Income data into a pandas dataframe\n",
        "*  create a numpy array from the Age column  \n",
        "*  create a numpy array from the Income column  \n",
        "*  use the np.corrcoef(nparray1, nparray2) function to get the Pearson's Correlation Coefficient (the measure of linear correlation between the two data sets) and store it in a variable called **coef**\n",
        "*  print the correlation coefficient output (see below, it will be a 2x2 matrix)\n",
        "*  print the correlation coefficient (which is at position [0][1] (coef[0][1]))\n",
        "\n",
        "\n",
        "Expected output:  \n",
        "```\n",
        "[[ 1.         -0.14787412]\n",
        " [-0.14787412  1.        ]]\n",
        " -0.1478741157606825\n",
        "\n",
        "```\n",
        "The matrix gives 4 values showing the correlation between:\n",
        "\n",
        "```\n",
        "   |    (Age/Age)        (Age/Income)     |\n",
        "   |    (Income/Age)     (Income/Income)  |\n",
        "```\n",
        "This suggests that income decreases with age (the correlation is negative\n",
        "so as one increases the other decreases) but that the correlation is quite weak (an absolute correlation would be 1 and no correlation would be 0)"
      ]
    },
    {
      "cell_type": "code",
      "metadata": {
        "id": "xXsISkA4HibO",
        "colab": {
          "base_uri": "https://localhost:8080/"
        },
        "outputId": "dd7c0759-c1ae-46a1-e6d4-57e19e8e14a1"
      },
      "source": [
        "import pandas as pd\n",
        "import numpy as np\n",
        "\n",
        "def get_correlation(url=\"\",sheet_name=\"default\"):\n",
        "  # add your code below to get the correlation figure for age and salary\n",
        "\n",
        "\n",
        "  df = get_excel_data(url,sheet_name)\n",
        "  if df is False:\n",
        "    return\n",
        "\n",
        "  # create a numpy array from the Income column\n",
        "  income = df['Income'].to_numpy(np.float64)\n",
        "\n",
        "  # create a numpy array from the Age column\n",
        "  age = df['Age'].to_numpy(np.int32)\n",
        "\n",
        "  # get the Pearson's Correlation Coefficient (the measure of linear correlation between the two data sets) and store it in a variable called coef\n",
        "  coef = np.corrcoef(age,income)\n",
        "\n",
        "  # print the correlation coefficient output (see below, it will be a 2x2 matrix)\n",
        "  print(coef)\n",
        "\n",
        "  # print the correlation coefficient (which is at position [0][1] (coef[0][1]))\n",
        "  print(coef[0][1])\n",
        "\n",
        "\n",
        "\n",
        "# run the function and test against expected output\n",
        "get_correlation(url)"
      ],
      "execution_count": null,
      "outputs": [
        {
          "output_type": "stream",
          "name": "stdout",
          "text": [
            "[[ 1.         -0.14787412]\n",
            " [-0.14787412  1.        ]]\n",
            "-0.1478741157606825\n"
          ]
        }
      ]
    },
    {
      "cell_type": "markdown",
      "metadata": {
        "id": "OxR5qwoxIhMY"
      },
      "source": [
        "---\n",
        "## Broadcasting an operation across an array\n",
        "\n",
        "Because a numpy array is created from a related set of data, it is useful to be able to operate on every item in the array in the same way.  For instance, the array might hold a set of scores out of 30 and you might want to convert all scores into percentages.\n",
        "\n",
        "We can do this in a number of ways:  \n",
        "1.  Create a new array to store the result after the operation in the new array\n",
        "```\n",
        "scores = np.array([29,25,15,22,30])\n",
        "percentages = scores / 30 * 100\n",
        "print(percentages)\n",
        "```\n",
        "Expected output:\n",
        "```\n",
        "[ 96.66666667  83.33333333  50.          73.33333333 100.        ]\n",
        "```\n",
        "2.  Store the result in the original array\n",
        "```\n",
        "scores = np.array([29,25,15,22,30])\n",
        "scores = scores / 30 * 100\n",
        "print(scores)\n",
        "```\n",
        "Expected output:\n",
        "```\n",
        "[ 96.66666667  83.33333333  50.  73.33333333 100. ]\n",
        "```\n",
        "\n",
        "Give it a try:\n",
        "\n",
        "\n",
        "\n"
      ]
    },
    {
      "cell_type": "code",
      "metadata": {
        "id": "ozhaq9-tJhRy",
        "colab": {
          "base_uri": "https://localhost:8080/"
        },
        "outputId": "e814c2ac-fbbd-4245-be6a-0956fe3debe8"
      },
      "source": [
        "scores = np.array([29,25,15,22,30]) / 0.3\n",
        "print(scores)\n"
      ],
      "execution_count": null,
      "outputs": [
        {
          "output_type": "stream",
          "name": "stdout",
          "text": [
            "[ 96.66666667  83.33333333  50.          73.33333333 100.        ]\n"
          ]
        }
      ]
    },
    {
      "cell_type": "markdown",
      "metadata": {
        "id": "Lg62ACAlLzT8"
      },
      "source": [
        "---\n",
        "### Exercise 8 - increase whole array by 20\n",
        "\n",
        "Write a function which will:\n",
        "*  create a numpy array of 12 numbers\n",
        "*  create a new array adding 20 to each of the items in the first array  \n",
        "*  print the new array\n",
        "\n",
        "Test input:  \n",
        "`[1,2,3,4,5,6,7,8,1,2,3,4]`\n",
        "\n",
        "Expected output:  \n",
        "`[21 22 23 24 25 26 27 28 21 22 23 24]`"
      ]
    },
    {
      "cell_type": "code",
      "metadata": {
        "id": "HloCtcOYMD3W",
        "colab": {
          "base_uri": "https://localhost:8080/"
        },
        "outputId": "17623d52-76ba-4c39-862b-4c2ad9b2f3b1"
      },
      "source": [
        "# add your code to define the function to increase all values in an array by 20 and then to call the function\n",
        "def reset_printoptions_set():\n",
        "  np.set_printoptions(edgeitems=3,\n",
        "                      infstr=\"inf\",\n",
        "                      linewidth=75,\n",
        "                      nanstr=\"nan\",\n",
        "                      precision=8,\n",
        "                      suppress=False,\n",
        "                      threshold=1000,\n",
        "                      formatter=None)\n",
        "\n",
        "def increase_array(num_list, add_value):\n",
        "  # create and return increased array\n",
        "  return np.array(num_list) + add_value\n",
        "\n",
        "\n",
        "# run and test the code against the expected output\n",
        "reset_printoptions_set()\n",
        "print(increase_array([1,2,3,4,5,6,7,8,1,2,3,4],20))\n",
        "\n"
      ],
      "execution_count": null,
      "outputs": [
        {
          "output_type": "stream",
          "name": "stdout",
          "text": [
            "[21 22 23 24 25 26 27 28 21 22 23 24]\n"
          ]
        }
      ]
    },
    {
      "cell_type": "markdown",
      "metadata": {
        "id": "B-p-PF99MECD"
      },
      "source": [
        "---\n",
        "## Conversion of values using broadcasting\n",
        "\n",
        "---\n",
        "### Exercise 9 - convert Titanic fares into 21st century values\n",
        "\n",
        "Write a function which will:  \n",
        "*  create a dataframe from the titanic data set (https://raw.githubusercontent.com/pandas-dev/pandas/master/doc/data/titanic.csv)   \n",
        "*  create a numpy array from the Fare column\n",
        "*  convert the fares into current value (multiply by a factor of 120.7045 - source https://www.in2013dollars.com/uk/inflation/1912?amount=32 *accessed 22/1/2022*)\n",
        "*  print the average fare, the maximum fare and the minimum fare\n",
        "\n",
        "Expected output:  \n",
        "```\n",
        "3887.1928207428173\n",
        "61840.4399214\n",
        "0.0\n",
        "```\n",
        "\n",
        "\n"
      ]
    },
    {
      "cell_type": "code",
      "metadata": {
        "id": "ahgPUqTjM9it",
        "colab": {
          "base_uri": "https://localhost:8080/"
        },
        "outputId": "61c5bcc6-25da-4f86-cfd5-3af16f494921"
      },
      "source": [
        "import pandas as pd\n",
        "import numpy as np\n",
        "\n",
        "def get_current_fares(url=\"\"):\n",
        "  # add your code below to get the fares data into a numpy array, convert to today's prices and print stats\n",
        "\n",
        "  if not is_valid_link(url, \"url\"):\n",
        "    return\n",
        "\n",
        "  # create a dataframe from the titanic data set\n",
        "  df = pd.read_csv(url)\n",
        "\n",
        "  # create a numpy array from the Fare column\n",
        "  fare = df['Fare'].to_numpy(np.float64)\n",
        "\n",
        "  # convert the fares into current value\n",
        "  fare = fare * 120.7045\n",
        "\n",
        "  # print the average fare, the maximum fare and the minimum fare\n",
        "  print(np.mean(fare))\n",
        "  print(np.max(fare))\n",
        "  print(np.min(fare))\n",
        "\n",
        "\n",
        "# run the function and test against expected output\n",
        "url = \"https://raw.githubusercontent.com/pandas-dev/pandas/master/doc/data/titanic.csv\"\n",
        "get_current_fares(url)"
      ],
      "execution_count": null,
      "outputs": [
        {
          "output_type": "stream",
          "name": "stdout",
          "text": [
            "3887.1928207428173\n",
            "61840.4399214\n",
            "0.0\n"
          ]
        }
      ]
    },
    {
      "cell_type": "markdown",
      "metadata": {
        "id": "Bv1G1MJpT1U9"
      },
      "source": [
        "---\n",
        "### Exercise 10 - create a new column in the dataframe from a numpy array\n",
        "\n",
        "**Challenging**\n",
        "\n",
        "Write a function which will calculate expected salaries for all in the income data set after an inflation rate of 3.5% (with results in a new numpy array).\n",
        "\n",
        "Just to show the result, calculate and print the Pearson Correlation Coefficient between the salaries series and the inflated salaries series.  We would expect this to be 1 (ie the inflated salary is always 3.5% higher than the current salary) and the exercise is just meant to show that - the statistic has no relevance.  \n",
        "\n",
        "Create a new column in the dataframe from the new numpy array (so that the dataframe now contains the original salaries and the inflated salaries.  \n",
        "(**Recap**:  *to add a new column, just use* `df['new column name']`)  \n",
        "\n",
        "To assign a numpy array to a pandas column use  \n",
        "`df['new column name'] = numpyarrayname.tolist()`\n",
        "\n",
        "Display the new dataframe and print the correlation coefficient.\n",
        "\n",
        "\n",
        "\n",
        "\n",
        "\n"
      ]
    },
    {
      "cell_type": "code",
      "metadata": {
        "id": "x90cXT8NWD40",
        "colab": {
          "base_uri": "https://localhost:8080/",
          "height": 649
        },
        "outputId": "a620a2c2-6834-44a4-a973-48c17c1012ef"
      },
      "source": [
        "import pandas as pd\n",
        "import numpy as np\n",
        "\n",
        "def get_expected_salary(url=\"\",sheet_name=\"default\"):\n",
        "  # add your code below to get the fares data into a numpy array, calculate the expected salaries and then add this as a new column\n",
        "\n",
        "  df = get_excel_data(url,sheet_name)\n",
        "  if df is False:\n",
        "    return\n",
        "\n",
        "  # create a numpy array from the Income column\n",
        "  income = df['Income'].to_numpy(np.float64)\n",
        "\n",
        "  # calculate the expected salaries\n",
        "  expected_salary = income * 1.035\n",
        "\n",
        "  # add this as a new column\n",
        "  df['Expected Salary'] = expected_salary.tolist()\n",
        "\n",
        "  # display the new dataframe\n",
        "  display(df)\n",
        "\n",
        "  # print the correlation coefficient\n",
        "  print(np.corrcoef(income,expected_salary))\n",
        "\n",
        "\n",
        "# run the function and test against the expected output.\n",
        "url = \"https://github.com/futureCodersSE/python-programming-for-data/blob/main/Datasets/Income-Data.xlsx?raw=true\"\n",
        "get_expected_salary(url)\n",
        "\n",
        "\n"
      ],
      "execution_count": null,
      "outputs": [
        {
          "output_type": "display_data",
          "data": {
            "text/plain": [
              "   State  County  Population  Age  Income  Expected Salary\n",
              "0     TX       1          72   34      65           67.275\n",
              "1     TX       2          33   42      45           46.575\n",
              "2     TX       5          25   23      46           47.610\n",
              "3     TX       6          54   36      65           67.275\n",
              "4     TX       7          11   42      53           54.855\n",
              "5     TX       8          28   25      62           64.170\n",
              "6     TX       9          82   35      66           68.310\n",
              "7     TX      10           5   40      75           77.625\n",
              "8     MD      11          61   27      22           22.770\n",
              "9     MD       2           5   23      69           71.415\n",
              "10    MD       4          98   25      73           75.555\n",
              "11    MD       3          64   29      75           77.625\n",
              "12    MD       2          36   24      65           67.275\n",
              "13    MD       1          24   25      66           68.310\n",
              "14    MD       5          34   31      78           80.730\n",
              "15    MD       6          89   22      81           83.835\n",
              "16    MD       8          21   25      73           75.555\n",
              "17    MD       7          21   30      62           64.170"
            ],
            "text/html": [
              "\n",
              "  <div id=\"df-54d3023d-f06f-4d97-a24c-769f4ab03f90\" class=\"colab-df-container\">\n",
              "    <div>\n",
              "<style scoped>\n",
              "    .dataframe tbody tr th:only-of-type {\n",
              "        vertical-align: middle;\n",
              "    }\n",
              "\n",
              "    .dataframe tbody tr th {\n",
              "        vertical-align: top;\n",
              "    }\n",
              "\n",
              "    .dataframe thead th {\n",
              "        text-align: right;\n",
              "    }\n",
              "</style>\n",
              "<table border=\"1\" class=\"dataframe\">\n",
              "  <thead>\n",
              "    <tr style=\"text-align: right;\">\n",
              "      <th></th>\n",
              "      <th>State</th>\n",
              "      <th>County</th>\n",
              "      <th>Population</th>\n",
              "      <th>Age</th>\n",
              "      <th>Income</th>\n",
              "      <th>Expected Salary</th>\n",
              "    </tr>\n",
              "  </thead>\n",
              "  <tbody>\n",
              "    <tr>\n",
              "      <th>0</th>\n",
              "      <td>TX</td>\n",
              "      <td>1</td>\n",
              "      <td>72</td>\n",
              "      <td>34</td>\n",
              "      <td>65</td>\n",
              "      <td>67.275</td>\n",
              "    </tr>\n",
              "    <tr>\n",
              "      <th>1</th>\n",
              "      <td>TX</td>\n",
              "      <td>2</td>\n",
              "      <td>33</td>\n",
              "      <td>42</td>\n",
              "      <td>45</td>\n",
              "      <td>46.575</td>\n",
              "    </tr>\n",
              "    <tr>\n",
              "      <th>2</th>\n",
              "      <td>TX</td>\n",
              "      <td>5</td>\n",
              "      <td>25</td>\n",
              "      <td>23</td>\n",
              "      <td>46</td>\n",
              "      <td>47.610</td>\n",
              "    </tr>\n",
              "    <tr>\n",
              "      <th>3</th>\n",
              "      <td>TX</td>\n",
              "      <td>6</td>\n",
              "      <td>54</td>\n",
              "      <td>36</td>\n",
              "      <td>65</td>\n",
              "      <td>67.275</td>\n",
              "    </tr>\n",
              "    <tr>\n",
              "      <th>4</th>\n",
              "      <td>TX</td>\n",
              "      <td>7</td>\n",
              "      <td>11</td>\n",
              "      <td>42</td>\n",
              "      <td>53</td>\n",
              "      <td>54.855</td>\n",
              "    </tr>\n",
              "    <tr>\n",
              "      <th>5</th>\n",
              "      <td>TX</td>\n",
              "      <td>8</td>\n",
              "      <td>28</td>\n",
              "      <td>25</td>\n",
              "      <td>62</td>\n",
              "      <td>64.170</td>\n",
              "    </tr>\n",
              "    <tr>\n",
              "      <th>6</th>\n",
              "      <td>TX</td>\n",
              "      <td>9</td>\n",
              "      <td>82</td>\n",
              "      <td>35</td>\n",
              "      <td>66</td>\n",
              "      <td>68.310</td>\n",
              "    </tr>\n",
              "    <tr>\n",
              "      <th>7</th>\n",
              "      <td>TX</td>\n",
              "      <td>10</td>\n",
              "      <td>5</td>\n",
              "      <td>40</td>\n",
              "      <td>75</td>\n",
              "      <td>77.625</td>\n",
              "    </tr>\n",
              "    <tr>\n",
              "      <th>8</th>\n",
              "      <td>MD</td>\n",
              "      <td>11</td>\n",
              "      <td>61</td>\n",
              "      <td>27</td>\n",
              "      <td>22</td>\n",
              "      <td>22.770</td>\n",
              "    </tr>\n",
              "    <tr>\n",
              "      <th>9</th>\n",
              "      <td>MD</td>\n",
              "      <td>2</td>\n",
              "      <td>5</td>\n",
              "      <td>23</td>\n",
              "      <td>69</td>\n",
              "      <td>71.415</td>\n",
              "    </tr>\n",
              "    <tr>\n",
              "      <th>10</th>\n",
              "      <td>MD</td>\n",
              "      <td>4</td>\n",
              "      <td>98</td>\n",
              "      <td>25</td>\n",
              "      <td>73</td>\n",
              "      <td>75.555</td>\n",
              "    </tr>\n",
              "    <tr>\n",
              "      <th>11</th>\n",
              "      <td>MD</td>\n",
              "      <td>3</td>\n",
              "      <td>64</td>\n",
              "      <td>29</td>\n",
              "      <td>75</td>\n",
              "      <td>77.625</td>\n",
              "    </tr>\n",
              "    <tr>\n",
              "      <th>12</th>\n",
              "      <td>MD</td>\n",
              "      <td>2</td>\n",
              "      <td>36</td>\n",
              "      <td>24</td>\n",
              "      <td>65</td>\n",
              "      <td>67.275</td>\n",
              "    </tr>\n",
              "    <tr>\n",
              "      <th>13</th>\n",
              "      <td>MD</td>\n",
              "      <td>1</td>\n",
              "      <td>24</td>\n",
              "      <td>25</td>\n",
              "      <td>66</td>\n",
              "      <td>68.310</td>\n",
              "    </tr>\n",
              "    <tr>\n",
              "      <th>14</th>\n",
              "      <td>MD</td>\n",
              "      <td>5</td>\n",
              "      <td>34</td>\n",
              "      <td>31</td>\n",
              "      <td>78</td>\n",
              "      <td>80.730</td>\n",
              "    </tr>\n",
              "    <tr>\n",
              "      <th>15</th>\n",
              "      <td>MD</td>\n",
              "      <td>6</td>\n",
              "      <td>89</td>\n",
              "      <td>22</td>\n",
              "      <td>81</td>\n",
              "      <td>83.835</td>\n",
              "    </tr>\n",
              "    <tr>\n",
              "      <th>16</th>\n",
              "      <td>MD</td>\n",
              "      <td>8</td>\n",
              "      <td>21</td>\n",
              "      <td>25</td>\n",
              "      <td>73</td>\n",
              "      <td>75.555</td>\n",
              "    </tr>\n",
              "    <tr>\n",
              "      <th>17</th>\n",
              "      <td>MD</td>\n",
              "      <td>7</td>\n",
              "      <td>21</td>\n",
              "      <td>30</td>\n",
              "      <td>62</td>\n",
              "      <td>64.170</td>\n",
              "    </tr>\n",
              "  </tbody>\n",
              "</table>\n",
              "</div>\n",
              "    <div class=\"colab-df-buttons\">\n",
              "\n",
              "  <div class=\"colab-df-container\">\n",
              "    <button class=\"colab-df-convert\" onclick=\"convertToInteractive('df-54d3023d-f06f-4d97-a24c-769f4ab03f90')\"\n",
              "            title=\"Convert this dataframe to an interactive table.\"\n",
              "            style=\"display:none;\">\n",
              "\n",
              "  <svg xmlns=\"http://www.w3.org/2000/svg\" height=\"24px\" viewBox=\"0 -960 960 960\">\n",
              "    <path d=\"M120-120v-720h720v720H120Zm60-500h600v-160H180v160Zm220 220h160v-160H400v160Zm0 220h160v-160H400v160ZM180-400h160v-160H180v160Zm440 0h160v-160H620v160ZM180-180h160v-160H180v160Zm440 0h160v-160H620v160Z\"/>\n",
              "  </svg>\n",
              "    </button>\n",
              "\n",
              "  <style>\n",
              "    .colab-df-container {\n",
              "      display:flex;\n",
              "      gap: 12px;\n",
              "    }\n",
              "\n",
              "    .colab-df-convert {\n",
              "      background-color: #E8F0FE;\n",
              "      border: none;\n",
              "      border-radius: 50%;\n",
              "      cursor: pointer;\n",
              "      display: none;\n",
              "      fill: #1967D2;\n",
              "      height: 32px;\n",
              "      padding: 0 0 0 0;\n",
              "      width: 32px;\n",
              "    }\n",
              "\n",
              "    .colab-df-convert:hover {\n",
              "      background-color: #E2EBFA;\n",
              "      box-shadow: 0px 1px 2px rgba(60, 64, 67, 0.3), 0px 1px 3px 1px rgba(60, 64, 67, 0.15);\n",
              "      fill: #174EA6;\n",
              "    }\n",
              "\n",
              "    .colab-df-buttons div {\n",
              "      margin-bottom: 4px;\n",
              "    }\n",
              "\n",
              "    [theme=dark] .colab-df-convert {\n",
              "      background-color: #3B4455;\n",
              "      fill: #D2E3FC;\n",
              "    }\n",
              "\n",
              "    [theme=dark] .colab-df-convert:hover {\n",
              "      background-color: #434B5C;\n",
              "      box-shadow: 0px 1px 3px 1px rgba(0, 0, 0, 0.15);\n",
              "      filter: drop-shadow(0px 1px 2px rgba(0, 0, 0, 0.3));\n",
              "      fill: #FFFFFF;\n",
              "    }\n",
              "  </style>\n",
              "\n",
              "    <script>\n",
              "      const buttonEl =\n",
              "        document.querySelector('#df-54d3023d-f06f-4d97-a24c-769f4ab03f90 button.colab-df-convert');\n",
              "      buttonEl.style.display =\n",
              "        google.colab.kernel.accessAllowed ? 'block' : 'none';\n",
              "\n",
              "      async function convertToInteractive(key) {\n",
              "        const element = document.querySelector('#df-54d3023d-f06f-4d97-a24c-769f4ab03f90');\n",
              "        const dataTable =\n",
              "          await google.colab.kernel.invokeFunction('convertToInteractive',\n",
              "                                                    [key], {});\n",
              "        if (!dataTable) return;\n",
              "\n",
              "        const docLinkHtml = 'Like what you see? Visit the ' +\n",
              "          '<a target=\"_blank\" href=https://colab.research.google.com/notebooks/data_table.ipynb>data table notebook</a>'\n",
              "          + ' to learn more about interactive tables.';\n",
              "        element.innerHTML = '';\n",
              "        dataTable['output_type'] = 'display_data';\n",
              "        await google.colab.output.renderOutput(dataTable, element);\n",
              "        const docLink = document.createElement('div');\n",
              "        docLink.innerHTML = docLinkHtml;\n",
              "        element.appendChild(docLink);\n",
              "      }\n",
              "    </script>\n",
              "  </div>\n",
              "\n",
              "\n",
              "<div id=\"df-78d5d07d-f825-4733-b72c-ca53bf600d90\">\n",
              "  <button class=\"colab-df-quickchart\" onclick=\"quickchart('df-78d5d07d-f825-4733-b72c-ca53bf600d90')\"\n",
              "            title=\"Suggest charts\"\n",
              "            style=\"display:none;\">\n",
              "\n",
              "<svg xmlns=\"http://www.w3.org/2000/svg\" height=\"24px\"viewBox=\"0 0 24 24\"\n",
              "     width=\"24px\">\n",
              "    <g>\n",
              "        <path d=\"M19 3H5c-1.1 0-2 .9-2 2v14c0 1.1.9 2 2 2h14c1.1 0 2-.9 2-2V5c0-1.1-.9-2-2-2zM9 17H7v-7h2v7zm4 0h-2V7h2v10zm4 0h-2v-4h2v4z\"/>\n",
              "    </g>\n",
              "</svg>\n",
              "  </button>\n",
              "\n",
              "<style>\n",
              "  .colab-df-quickchart {\n",
              "      --bg-color: #E8F0FE;\n",
              "      --fill-color: #1967D2;\n",
              "      --hover-bg-color: #E2EBFA;\n",
              "      --hover-fill-color: #174EA6;\n",
              "      --disabled-fill-color: #AAA;\n",
              "      --disabled-bg-color: #DDD;\n",
              "  }\n",
              "\n",
              "  [theme=dark] .colab-df-quickchart {\n",
              "      --bg-color: #3B4455;\n",
              "      --fill-color: #D2E3FC;\n",
              "      --hover-bg-color: #434B5C;\n",
              "      --hover-fill-color: #FFFFFF;\n",
              "      --disabled-bg-color: #3B4455;\n",
              "      --disabled-fill-color: #666;\n",
              "  }\n",
              "\n",
              "  .colab-df-quickchart {\n",
              "    background-color: var(--bg-color);\n",
              "    border: none;\n",
              "    border-radius: 50%;\n",
              "    cursor: pointer;\n",
              "    display: none;\n",
              "    fill: var(--fill-color);\n",
              "    height: 32px;\n",
              "    padding: 0;\n",
              "    width: 32px;\n",
              "  }\n",
              "\n",
              "  .colab-df-quickchart:hover {\n",
              "    background-color: var(--hover-bg-color);\n",
              "    box-shadow: 0 1px 2px rgba(60, 64, 67, 0.3), 0 1px 3px 1px rgba(60, 64, 67, 0.15);\n",
              "    fill: var(--button-hover-fill-color);\n",
              "  }\n",
              "\n",
              "  .colab-df-quickchart-complete:disabled,\n",
              "  .colab-df-quickchart-complete:disabled:hover {\n",
              "    background-color: var(--disabled-bg-color);\n",
              "    fill: var(--disabled-fill-color);\n",
              "    box-shadow: none;\n",
              "  }\n",
              "\n",
              "  .colab-df-spinner {\n",
              "    border: 2px solid var(--fill-color);\n",
              "    border-color: transparent;\n",
              "    border-bottom-color: var(--fill-color);\n",
              "    animation:\n",
              "      spin 1s steps(1) infinite;\n",
              "  }\n",
              "\n",
              "  @keyframes spin {\n",
              "    0% {\n",
              "      border-color: transparent;\n",
              "      border-bottom-color: var(--fill-color);\n",
              "      border-left-color: var(--fill-color);\n",
              "    }\n",
              "    20% {\n",
              "      border-color: transparent;\n",
              "      border-left-color: var(--fill-color);\n",
              "      border-top-color: var(--fill-color);\n",
              "    }\n",
              "    30% {\n",
              "      border-color: transparent;\n",
              "      border-left-color: var(--fill-color);\n",
              "      border-top-color: var(--fill-color);\n",
              "      border-right-color: var(--fill-color);\n",
              "    }\n",
              "    40% {\n",
              "      border-color: transparent;\n",
              "      border-right-color: var(--fill-color);\n",
              "      border-top-color: var(--fill-color);\n",
              "    }\n",
              "    60% {\n",
              "      border-color: transparent;\n",
              "      border-right-color: var(--fill-color);\n",
              "    }\n",
              "    80% {\n",
              "      border-color: transparent;\n",
              "      border-right-color: var(--fill-color);\n",
              "      border-bottom-color: var(--fill-color);\n",
              "    }\n",
              "    90% {\n",
              "      border-color: transparent;\n",
              "      border-bottom-color: var(--fill-color);\n",
              "    }\n",
              "  }\n",
              "</style>\n",
              "\n",
              "  <script>\n",
              "    async function quickchart(key) {\n",
              "      const quickchartButtonEl =\n",
              "        document.querySelector('#' + key + ' button');\n",
              "      quickchartButtonEl.disabled = true;  // To prevent multiple clicks.\n",
              "      quickchartButtonEl.classList.add('colab-df-spinner');\n",
              "      try {\n",
              "        const charts = await google.colab.kernel.invokeFunction(\n",
              "            'suggestCharts', [key], {});\n",
              "      } catch (error) {\n",
              "        console.error('Error during call to suggestCharts:', error);\n",
              "      }\n",
              "      quickchartButtonEl.classList.remove('colab-df-spinner');\n",
              "      quickchartButtonEl.classList.add('colab-df-quickchart-complete');\n",
              "    }\n",
              "    (() => {\n",
              "      let quickchartButtonEl =\n",
              "        document.querySelector('#df-78d5d07d-f825-4733-b72c-ca53bf600d90 button');\n",
              "      quickchartButtonEl.style.display =\n",
              "        google.colab.kernel.accessAllowed ? 'block' : 'none';\n",
              "    })();\n",
              "  </script>\n",
              "</div>\n",
              "\n",
              "    </div>\n",
              "  </div>\n"
            ],
            "application/vnd.google.colaboratory.intrinsic+json": {
              "type": "dataframe",
              "summary": "{\n  \"name\": \"get_expected_salary(url)\",\n  \"rows\": 18,\n  \"fields\": [\n    {\n      \"column\": \"State\",\n      \"properties\": {\n        \"dtype\": \"category\",\n        \"num_unique_values\": 2,\n        \"samples\": [\n          \"MD\",\n          \"TX\"\n        ],\n        \"semantic_type\": \"\",\n        \"description\": \"\"\n      }\n    },\n    {\n      \"column\": \"County\",\n      \"properties\": {\n        \"dtype\": \"number\",\n        \"std\": 3,\n        \"min\": 1,\n        \"max\": 11,\n        \"num_unique_values\": 11,\n        \"samples\": [\n          8,\n          1\n        ],\n        \"semantic_type\": \"\",\n        \"description\": \"\"\n      }\n    },\n    {\n      \"column\": \"Population\",\n      \"properties\": {\n        \"dtype\": \"number\",\n        \"std\": 29,\n        \"min\": 5,\n        \"max\": 98,\n        \"num_unique_values\": 16,\n        \"samples\": [\n          72,\n          33\n        ],\n        \"semantic_type\": \"\",\n        \"description\": \"\"\n      }\n    },\n    {\n      \"column\": \"Age\",\n      \"properties\": {\n        \"dtype\": \"number\",\n        \"std\": 6,\n        \"min\": 22,\n        \"max\": 42,\n        \"num_unique_values\": 13,\n        \"samples\": [\n          22,\n          24\n        ],\n        \"semantic_type\": \"\",\n        \"description\": \"\"\n      }\n    },\n    {\n      \"column\": \"Income\",\n      \"properties\": {\n        \"dtype\": \"number\",\n        \"std\": 14,\n        \"min\": 22,\n        \"max\": 81,\n        \"num_unique_values\": 12,\n        \"samples\": [\n          78,\n          73\n        ],\n        \"semantic_type\": \"\",\n        \"description\": \"\"\n      }\n    },\n    {\n      \"column\": \"Expected Salary\",\n      \"properties\": {\n        \"dtype\": \"number\",\n        \"std\": 14.842903161602377,\n        \"min\": 22.77,\n        \"max\": 83.835,\n        \"num_unique_values\": 12,\n        \"samples\": [\n          80.72999999999999,\n          75.55499999999999\n        ],\n        \"semantic_type\": \"\",\n        \"description\": \"\"\n      }\n    }\n  ]\n}"
            }
          },
          "metadata": {}
        },
        {
          "output_type": "stream",
          "name": "stdout",
          "text": [
            "[[1. 1.]\n",
            " [1. 1.]]\n"
          ]
        }
      ]
    },
    {
      "cell_type": "markdown",
      "metadata": {
        "id": "yQyytEbnZ1lw"
      },
      "source": [
        "# Reflection\n",
        "----\n",
        "\n",
        "## What skills have you demonstrated in completing this notebook?"
      ]
    },
    {
      "cell_type": "markdown",
      "source": [
        "- attention to detail\n",
        "- rapid acquisition of new knowledge\n",
        "- performing routine operations\n",
        "- tolerance\n",
        "- endurance"
      ],
      "metadata": {
        "id": "vQlmTLXnARKS"
      }
    },
    {
      "cell_type": "markdown",
      "metadata": {
        "id": "MM00hR5aZk1-"
      },
      "source": [
        "Your answer:"
      ]
    },
    {
      "cell_type": "markdown",
      "metadata": {
        "id": "Zgexd27sZ1ly"
      },
      "source": [
        "## What caused you the most difficulty?"
      ]
    },
    {
      "cell_type": "markdown",
      "metadata": {
        "id": "-Y_nrVBwaGXr"
      },
      "source": [
        "Your answer:"
      ]
    },
    {
      "cell_type": "markdown",
      "source": [
        "It was a bit difficult in the 10th challenge to quickly figure out that the salary data can be taken from the table of previous tasks. The first idea was to generate a series of salaries independently with random numbers"
      ],
      "metadata": {
        "id": "CEklGGIRAYp-"
      }
    }
  ]
}